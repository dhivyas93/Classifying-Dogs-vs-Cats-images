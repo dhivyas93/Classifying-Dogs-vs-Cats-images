{
 "cells": [
  {
   "cell_type": "markdown",
   "metadata": {},
   "source": [
    "<center>\n",
    "    <h1> KAGGLE CASES, Summer 2019 </h1>\n",
    "    <h1> Project - 2 </h1>\n",
    "    <h1> Name : Dhivya Swaminathan </h1>\n",
    "    <h1> UID : 2000434729 </h1>\n",
    "    <h2> Dogs vs Cats Prediction </h2>\n",
    "<center>"
   ]
  },
  {
   "cell_type": "code",
   "execution_count": 40,
   "metadata": {},
   "outputs": [],
   "source": [
    "# importing necessary libraries\n",
    "import pandas as pd\n",
    "import numpy as np\n",
    "import cv2\n",
    "import matplotlib.pyplot as plt\n",
    "from tensorflow.keras.models import Sequential\n",
    "from tensorflow.keras.layers import Dense, Flatten, Dropout, Activation, Conv2D, MaxPooling2D\n",
    "import tensorflow as tf\n",
    "import os\n",
    "import keras\n",
    "from keras.models import load_model"
   ]
  },
  {
   "cell_type": "code",
   "execution_count": 21,
   "metadata": {},
   "outputs": [],
   "source": [
    "# method to process the images in the train set\n",
    "def get_image_data(data_directory):\n",
    "    X = []\n",
    "    y = []\n",
    "    makeDog = lambda category : int(category == 'dog')\n",
    "    for image in os.listdir(data_directory):\n",
    "        category = makeDog(image.split(\".\")[0])\n",
    "        image_path = os.path.join(data_directory,image)\n",
    "        images = cv2.imread(image_path,cv2.IMREAD_GRAYSCALE)\n",
    "        resized_images = cv2.resize(images, dsize=(80, 80))\n",
    "        X.append(resized_images)\n",
    "        y.append(category)\n",
    "    return np.asarray(X).reshape(-1, 80,80,1), np.asarray(y)"
   ]
  },
  {
   "cell_type": "code",
   "execution_count": 22,
   "metadata": {},
   "outputs": [],
   "source": [
    "train_directory = \"train\"\n",
    "X, y = get_image_data(train_directory)"
   ]
  },
  {
   "cell_type": "code",
   "execution_count": 29,
   "metadata": {},
   "outputs": [],
   "source": [
    "# method to build a model\n",
    "def build_model():\n",
    "    model = Sequential()\n",
    "    return model\n",
    "\n",
    "# method to add various layers from the model\n",
    "def add_layers(model):\n",
    "    model.add(Conv2D(64,(3,3), activation = 'relu', input_shape = X.shape[1:]))\n",
    "    model.add(MaxPooling2D(pool_size = (2,2)))\n",
    "    model.add(Conv2D(64,(3,3), activation = 'relu'))\n",
    "    model.add(MaxPooling2D(pool_size = (2,2)))\n",
    "    model.add(Flatten())\n",
    "    model.add(Dense(64, activation='relu'))\n",
    "    model.add(Dense(1, activation='sigmoid'))\n",
    "    return model\n",
    "\n",
    "# method to compile the model with appropriate parameters\n",
    "def compile_model(model):\n",
    "    model.compile(optimizer=\"adam\",loss='binary_crossentropy',metrics=['accuracy'])\n",
    "    return model\n",
    "\n",
    "model = compile_model(add_layers(build_model()))"
   ]
  },
  {
   "cell_type": "code",
   "execution_count": 24,
   "metadata": {
    "scrolled": false
   },
   "outputs": [
    {
     "name": "stdout",
     "output_type": "stream",
     "text": [
      "Train on 20000 samples, validate on 5000 samples\n",
      "Epoch 1/10\n",
      "20000/20000 [==============================] - 196s 10ms/sample - loss: 1.2023 - acc: 0.6160 - val_loss: 0.9741 - val_acc: 0.0330\n",
      "Epoch 2/10\n",
      "20000/20000 [==============================] - 221s 11ms/sample - loss: 0.6475 - acc: 0.6322 - val_loss: 0.9195 - val_acc: 0.1430\n",
      "Epoch 3/10\n",
      "20000/20000 [==============================] - 208s 10ms/sample - loss: 0.6145 - acc: 0.6653 - val_loss: 0.8629 - val_acc: 0.3708\n",
      "Epoch 4/10\n",
      "20000/20000 [==============================] - 203s 10ms/sample - loss: 0.5511 - acc: 0.7168 - val_loss: 1.0454 - val_acc: 0.3876\n",
      "Epoch 5/10\n",
      "20000/20000 [==============================] - 201s 10ms/sample - loss: 0.4607 - acc: 0.7782 - val_loss: 1.0568 - val_acc: 0.4252\n",
      "Epoch 6/10\n",
      "20000/20000 [==============================] - 188s 9ms/sample - loss: 0.3328 - acc: 0.8505 - val_loss: 1.1392 - val_acc: 0.5224\n",
      "Epoch 7/10\n",
      "20000/20000 [==============================] - 225s 11ms/sample - loss: 0.2218 - acc: 0.9085 - val_loss: 1.6292 - val_acc: 0.5150\n",
      "Epoch 8/10\n",
      "20000/20000 [==============================] - 218s 11ms/sample - loss: 0.1468 - acc: 0.9443 - val_loss: 1.9080 - val_acc: 0.5416\n",
      "Epoch 9/10\n",
      "20000/20000 [==============================] - 199s 10ms/sample - loss: 0.1032 - acc: 0.9639 - val_loss: 2.2843 - val_acc: 0.5170\n",
      "Epoch 10/10\n",
      "20000/20000 [==============================] - 199s 10ms/sample - loss: 0.0859 - acc: 0.9701 - val_loss: 2.9288 - val_acc: 0.5128\n"
     ]
    },
    {
     "data": {
      "text/plain": [
       "<tensorflow.python.keras.callbacks.History at 0x14bd274d390>"
      ]
     },
     "execution_count": 24,
     "metadata": {},
     "output_type": "execute_result"
    }
   ],
   "source": [
    "model.fit(X, y, epochs=10, batch_size=32, validation_split=0.2)"
   ]
  },
  {
   "cell_type": "code",
   "execution_count": 30,
   "metadata": {},
   "outputs": [],
   "source": [
    "model.save('model_dog_cat.h5')"
   ]
  },
  {
   "cell_type": "code",
   "execution_count": 27,
   "metadata": {},
   "outputs": [],
   "source": [
    "test_directory = \"test\"\n",
    "image_ids = []\n",
    "\n",
    "# method to process the test data to input into the model for prediction\n",
    "def get_test_images(test_directory):\n",
    "    Xtest = []\n",
    "    for image in os.listdir(test_directory):\n",
    "        image_ids.append(image.split(\".\")[0])\n",
    "        image_path = os.path.join(test_directory, image)\n",
    "        images = cv2.imread(image_path,cv2.IMREAD_GRAYSCALE)\n",
    "        resized_images = cv2.resize(images, dsize=(80, 80))\n",
    "        Xtest.append(resized_images)\n",
    "    return np.array(Xtest).reshape(-1,80,80,1)\n",
    "\n",
    "Xtest = get_test_images(test_directory)"
   ]
  },
  {
   "cell_type": "code",
   "execution_count": 45,
   "metadata": {},
   "outputs": [],
   "source": [
    "predictions = model.predict(Xtest)\n",
    "predicted_val = [int(round(p[0])) for p in predictions]\n",
    "submission_df = pd.DataFrame({'id':image_ids, 'label':predicted_val})\n",
    "submission_df.to_csv(\"submission.csv\", index=False)"
   ]
  }
 ],
 "metadata": {
  "kernelspec": {
   "display_name": "Python 3",
   "language": "python",
   "name": "python3"
  },
  "language_info": {
   "codemirror_mode": {
    "name": "ipython",
    "version": 3
   },
   "file_extension": ".py",
   "mimetype": "text/x-python",
   "name": "python",
   "nbconvert_exporter": "python",
   "pygments_lexer": "ipython3",
   "version": "3.6.8"
  }
 },
 "nbformat": 4,
 "nbformat_minor": 2
}
